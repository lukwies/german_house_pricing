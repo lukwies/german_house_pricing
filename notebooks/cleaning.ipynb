{
 "cells": [
  {
   "cell_type": "markdown",
   "id": "62f7e784",
   "metadata": {},
   "source": [
    "# House Prices\n",
    "\n",
    "\n",
    "### Attributes\n",
    "\n",
    "- **regio1**: \n",
    "- **serviceCharge**:\n",
    "- **heatingType**:\n",
    "- **telekomTvOffer**:\n",
    "- **telekomHybridUploadSpeed**:\n",
    "- **newlyConst**:\n",
    "- **balcony**:\n",
    "- **picturecount**:\n",
    "- **pricetrend**:\n",
    "- **telekomUploadSpeed**:\n",
    "- **totalRent**:\n",
    "- **yearConstructed**:\n",
    "- **scoutId**:\n",
    "- **noParkSpaces**:\n",
    "- **firingTypes**:\n",
    "- **hasKitchen**:\n",
    "- **geo_bln**:\n",
    "- **cellar**:\n",
    "- **yearConstructedRange**:\n",
    "- **baseRent**:\n",
    "- **houseNumber**:\n",
    "- **livingSpace**:\n",
    "- **geo_krs**:\n",
    "- **condition**:\n",
    "- **interiorQual**:\n",
    "- **petsAllowed**:\n",
    "- **street**:\n",
    "- **streetPlain**:\n",
    "- **lift**:\n",
    "- **baseRentRange**:\n",
    "- **typeOfFlat**:\n",
    "- **noRooms**:\n",
    "- **thermalChar**:\n",
    "- **floor**:\n",
    "- **numberOfFloors**:\n",
    "- **noRoomsRange**:\n",
    "- **garden**:\n",
    "- **livingSpaceRange**:\n",
    "- **regio2**:\n",
    "- **regio3**:\n",
    "- **description**:\n",
    "- **facilities**:\n",
    "- **heatingCosts**:\n",
    "- **energyEfficiencyClass**:\n",
    "- **lastRefurbish**:\n",
    "- **electricityBasePrice**:\n",
    "- **electricityKwhPrice**:\n",
    "- **date**:\n",
    "\n",
    "# TODO\n",
    "service_charge = total_rent - base_rent"
   ]
  },
  {
   "cell_type": "code",
   "execution_count": 1,
   "id": "7d802822",
   "metadata": {},
   "outputs": [],
   "source": [
    "import os\n",
    "import sys\n",
    "import re\n",
    "import yaml\n",
    "\n",
    "import pandas as pd\n",
    "import geopandas as gpd\n",
    "import numpy as np\n",
    "\n",
    "import matplotlib.pyplot as plt\n",
    "import seaborn as sns"
   ]
  },
  {
   "cell_type": "code",
   "execution_count": 2,
   "id": "9ea13492",
   "metadata": {},
   "outputs": [],
   "source": [
    "sys.path.insert(0, os.path.abspath(\"../src\"))\n",
    "import cleaning as clean"
   ]
  },
  {
   "cell_type": "code",
   "execution_count": 3,
   "id": "fd9c49d5",
   "metadata": {},
   "outputs": [],
   "source": [
    "with open('../params.yaml') as file:\n",
    "    config = yaml.safe_load(file)"
   ]
  },
  {
   "cell_type": "code",
   "execution_count": 4,
   "id": "331a6c73",
   "metadata": {},
   "outputs": [],
   "source": [
    "pd.set_option('display.max_columns', None)"
   ]
  },
  {
   "cell_type": "code",
   "execution_count": 5,
   "id": "ba8587b8",
   "metadata": {},
   "outputs": [
    {
     "data": {
      "text/html": [
       "<div>\n",
       "<style scoped>\n",
       "    .dataframe tbody tr th:only-of-type {\n",
       "        vertical-align: middle;\n",
       "    }\n",
       "\n",
       "    .dataframe tbody tr th {\n",
       "        vertical-align: top;\n",
       "    }\n",
       "\n",
       "    .dataframe thead th {\n",
       "        text-align: right;\n",
       "    }\n",
       "</style>\n",
       "<table border=\"1\" class=\"dataframe\">\n",
       "  <thead>\n",
       "    <tr style=\"text-align: right;\">\n",
       "      <th></th>\n",
       "      <th>regio1</th>\n",
       "      <th>service_charge</th>\n",
       "      <th>heating_type</th>\n",
       "      <th>telekom_tv_offer</th>\n",
       "      <th>telekom_hybrid_upload_speed</th>\n",
       "      <th>newly_const</th>\n",
       "      <th>balcony</th>\n",
       "      <th>picturecount</th>\n",
       "      <th>pricetrend</th>\n",
       "      <th>telekom_upload_speed</th>\n",
       "      <th>total_rent</th>\n",
       "      <th>year_constructed</th>\n",
       "      <th>scout_id</th>\n",
       "      <th>no_park_spaces</th>\n",
       "      <th>firing_types</th>\n",
       "      <th>has_kitchen</th>\n",
       "      <th>geo_bln</th>\n",
       "      <th>cellar</th>\n",
       "      <th>year_constructed_range</th>\n",
       "      <th>base_rent</th>\n",
       "      <th>house_number</th>\n",
       "      <th>living_space</th>\n",
       "      <th>geo_krs</th>\n",
       "      <th>condition</th>\n",
       "      <th>interior_qual</th>\n",
       "      <th>pets_allowed</th>\n",
       "      <th>street</th>\n",
       "      <th>street_plain</th>\n",
       "      <th>lift</th>\n",
       "      <th>base_rent_range</th>\n",
       "      <th>type_of_flat</th>\n",
       "      <th>geo_plz</th>\n",
       "      <th>no_rooms</th>\n",
       "      <th>thermal_char</th>\n",
       "      <th>floor</th>\n",
       "      <th>number_of_floors</th>\n",
       "      <th>no_rooms_range</th>\n",
       "      <th>garden</th>\n",
       "      <th>living_space_range</th>\n",
       "      <th>regio2</th>\n",
       "      <th>regio3</th>\n",
       "      <th>description</th>\n",
       "      <th>facilities</th>\n",
       "      <th>heating_costs</th>\n",
       "      <th>energy_efficiency_class</th>\n",
       "      <th>last_refurbish</th>\n",
       "      <th>electricity_base_price</th>\n",
       "      <th>electricity_kwh_price</th>\n",
       "      <th>date</th>\n",
       "    </tr>\n",
       "  </thead>\n",
       "  <tbody>\n",
       "    <tr>\n",
       "      <th>0</th>\n",
       "      <td>Nordrhein_Westfalen</td>\n",
       "      <td>245.0</td>\n",
       "      <td>central_heating</td>\n",
       "      <td>ONE_YEAR_FREE</td>\n",
       "      <td>NaN</td>\n",
       "      <td>False</td>\n",
       "      <td>False</td>\n",
       "      <td>6</td>\n",
       "      <td>4.62</td>\n",
       "      <td>10.0</td>\n",
       "      <td>840.0</td>\n",
       "      <td>1965.0</td>\n",
       "      <td>96107057</td>\n",
       "      <td>1.0</td>\n",
       "      <td>oil</td>\n",
       "      <td>False</td>\n",
       "      <td>Nordrhein_Westfalen</td>\n",
       "      <td>True</td>\n",
       "      <td>2.0</td>\n",
       "      <td>595.0</td>\n",
       "      <td>244</td>\n",
       "      <td>86.0</td>\n",
       "      <td>Dortmund</td>\n",
       "      <td>well_kept</td>\n",
       "      <td>normal</td>\n",
       "      <td>NaN</td>\n",
       "      <td>Sch&amp;uuml;ruferstra&amp;szlig;e</td>\n",
       "      <td>Schüruferstraße</td>\n",
       "      <td>False</td>\n",
       "      <td>4</td>\n",
       "      <td>ground_floor</td>\n",
       "      <td>44269</td>\n",
       "      <td>4.0</td>\n",
       "      <td>181.4</td>\n",
       "      <td>1.0</td>\n",
       "      <td>3.0</td>\n",
       "      <td>4</td>\n",
       "      <td>True</td>\n",
       "      <td>4</td>\n",
       "      <td>Dortmund</td>\n",
       "      <td>Schüren</td>\n",
       "      <td>Die ebenerdig zu erreichende Erdgeschosswohnun...</td>\n",
       "      <td>Die Wohnung ist mit Laminat ausgelegt. Das Bad...</td>\n",
       "      <td>NaN</td>\n",
       "      <td>NaN</td>\n",
       "      <td>NaN</td>\n",
       "      <td>NaN</td>\n",
       "      <td>NaN</td>\n",
       "      <td>May19</td>\n",
       "    </tr>\n",
       "    <tr>\n",
       "      <th>1</th>\n",
       "      <td>Rheinland_Pfalz</td>\n",
       "      <td>134.0</td>\n",
       "      <td>self_contained_central_heating</td>\n",
       "      <td>ONE_YEAR_FREE</td>\n",
       "      <td>NaN</td>\n",
       "      <td>False</td>\n",
       "      <td>True</td>\n",
       "      <td>8</td>\n",
       "      <td>3.47</td>\n",
       "      <td>10.0</td>\n",
       "      <td>NaN</td>\n",
       "      <td>1871.0</td>\n",
       "      <td>111378734</td>\n",
       "      <td>2.0</td>\n",
       "      <td>gas</td>\n",
       "      <td>False</td>\n",
       "      <td>Rheinland_Pfalz</td>\n",
       "      <td>False</td>\n",
       "      <td>1.0</td>\n",
       "      <td>800.0</td>\n",
       "      <td>NaN</td>\n",
       "      <td>89.0</td>\n",
       "      <td>Rhein_Pfalz_Kreis</td>\n",
       "      <td>refurbished</td>\n",
       "      <td>normal</td>\n",
       "      <td>no</td>\n",
       "      <td>no_information</td>\n",
       "      <td>NaN</td>\n",
       "      <td>False</td>\n",
       "      <td>5</td>\n",
       "      <td>ground_floor</td>\n",
       "      <td>67459</td>\n",
       "      <td>3.0</td>\n",
       "      <td>NaN</td>\n",
       "      <td>NaN</td>\n",
       "      <td>NaN</td>\n",
       "      <td>3</td>\n",
       "      <td>False</td>\n",
       "      <td>4</td>\n",
       "      <td>Rhein_Pfalz_Kreis</td>\n",
       "      <td>Böhl_Iggelheim</td>\n",
       "      <td>Alles neu macht der Mai – so kann es auch für ...</td>\n",
       "      <td>NaN</td>\n",
       "      <td>NaN</td>\n",
       "      <td>NaN</td>\n",
       "      <td>2019.0</td>\n",
       "      <td>NaN</td>\n",
       "      <td>NaN</td>\n",
       "      <td>May19</td>\n",
       "    </tr>\n",
       "    <tr>\n",
       "      <th>2</th>\n",
       "      <td>Sachsen</td>\n",
       "      <td>255.0</td>\n",
       "      <td>floor_heating</td>\n",
       "      <td>ONE_YEAR_FREE</td>\n",
       "      <td>10.0</td>\n",
       "      <td>True</td>\n",
       "      <td>True</td>\n",
       "      <td>8</td>\n",
       "      <td>2.72</td>\n",
       "      <td>2.4</td>\n",
       "      <td>1300.0</td>\n",
       "      <td>2019.0</td>\n",
       "      <td>113147523</td>\n",
       "      <td>1.0</td>\n",
       "      <td>NaN</td>\n",
       "      <td>False</td>\n",
       "      <td>Sachsen</td>\n",
       "      <td>True</td>\n",
       "      <td>9.0</td>\n",
       "      <td>965.0</td>\n",
       "      <td>4</td>\n",
       "      <td>83.8</td>\n",
       "      <td>Dresden</td>\n",
       "      <td>first_time_use</td>\n",
       "      <td>sophisticated</td>\n",
       "      <td>NaN</td>\n",
       "      <td>Turnerweg</td>\n",
       "      <td>Turnerweg</td>\n",
       "      <td>True</td>\n",
       "      <td>6</td>\n",
       "      <td>apartment</td>\n",
       "      <td>1097</td>\n",
       "      <td>3.0</td>\n",
       "      <td>NaN</td>\n",
       "      <td>3.0</td>\n",
       "      <td>4.0</td>\n",
       "      <td>3</td>\n",
       "      <td>False</td>\n",
       "      <td>4</td>\n",
       "      <td>Dresden</td>\n",
       "      <td>Äußere_Neustadt_Antonstadt</td>\n",
       "      <td>Der Neubau entsteht im Herzen der Dresdner Neu...</td>\n",
       "      <td>* 9 m² Balkon\\n* Bad mit bodengleicher Dusche,...</td>\n",
       "      <td>NaN</td>\n",
       "      <td>NaN</td>\n",
       "      <td>NaN</td>\n",
       "      <td>NaN</td>\n",
       "      <td>NaN</td>\n",
       "      <td>Oct19</td>\n",
       "    </tr>\n",
       "  </tbody>\n",
       "</table>\n",
       "</div>"
      ],
      "text/plain": [
       "                regio1  service_charge                    heating_type  \\\n",
       "0  Nordrhein_Westfalen           245.0                 central_heating   \n",
       "1      Rheinland_Pfalz           134.0  self_contained_central_heating   \n",
       "2              Sachsen           255.0                   floor_heating   \n",
       "\n",
       "  telekom_tv_offer  telekom_hybrid_upload_speed  newly_const  balcony  \\\n",
       "0    ONE_YEAR_FREE                          NaN        False    False   \n",
       "1    ONE_YEAR_FREE                          NaN        False     True   \n",
       "2    ONE_YEAR_FREE                         10.0         True     True   \n",
       "\n",
       "   picturecount  pricetrend  telekom_upload_speed  total_rent  \\\n",
       "0             6        4.62                  10.0       840.0   \n",
       "1             8        3.47                  10.0         NaN   \n",
       "2             8        2.72                   2.4      1300.0   \n",
       "\n",
       "   year_constructed   scout_id  no_park_spaces firing_types  has_kitchen  \\\n",
       "0            1965.0   96107057             1.0          oil        False   \n",
       "1            1871.0  111378734             2.0          gas        False   \n",
       "2            2019.0  113147523             1.0          NaN        False   \n",
       "\n",
       "               geo_bln  cellar  year_constructed_range  base_rent  \\\n",
       "0  Nordrhein_Westfalen    True                     2.0      595.0   \n",
       "1      Rheinland_Pfalz   False                     1.0      800.0   \n",
       "2              Sachsen    True                     9.0      965.0   \n",
       "\n",
       "  house_number  living_space            geo_krs       condition  \\\n",
       "0          244          86.0           Dortmund       well_kept   \n",
       "1          NaN          89.0  Rhein_Pfalz_Kreis     refurbished   \n",
       "2            4          83.8            Dresden  first_time_use   \n",
       "\n",
       "   interior_qual pets_allowed                      street     street_plain  \\\n",
       "0         normal          NaN  Sch&uuml;ruferstra&szlig;e  Schüruferstraße   \n",
       "1         normal           no              no_information              NaN   \n",
       "2  sophisticated          NaN                   Turnerweg        Turnerweg   \n",
       "\n",
       "    lift  base_rent_range  type_of_flat  geo_plz  no_rooms  thermal_char  \\\n",
       "0  False                4  ground_floor    44269       4.0         181.4   \n",
       "1  False                5  ground_floor    67459       3.0           NaN   \n",
       "2   True                6     apartment     1097       3.0           NaN   \n",
       "\n",
       "   floor  number_of_floors  no_rooms_range  garden  living_space_range  \\\n",
       "0    1.0               3.0               4    True                   4   \n",
       "1    NaN               NaN               3   False                   4   \n",
       "2    3.0               4.0               3   False                   4   \n",
       "\n",
       "              regio2                      regio3  \\\n",
       "0           Dortmund                     Schüren   \n",
       "1  Rhein_Pfalz_Kreis              Böhl_Iggelheim   \n",
       "2            Dresden  Äußere_Neustadt_Antonstadt   \n",
       "\n",
       "                                         description  \\\n",
       "0  Die ebenerdig zu erreichende Erdgeschosswohnun...   \n",
       "1  Alles neu macht der Mai – so kann es auch für ...   \n",
       "2  Der Neubau entsteht im Herzen der Dresdner Neu...   \n",
       "\n",
       "                                          facilities  heating_costs  \\\n",
       "0  Die Wohnung ist mit Laminat ausgelegt. Das Bad...            NaN   \n",
       "1                                                NaN            NaN   \n",
       "2  * 9 m² Balkon\\n* Bad mit bodengleicher Dusche,...            NaN   \n",
       "\n",
       "  energy_efficiency_class  last_refurbish  electricity_base_price  \\\n",
       "0                     NaN             NaN                     NaN   \n",
       "1                     NaN          2019.0                     NaN   \n",
       "2                     NaN             NaN                     NaN   \n",
       "\n",
       "   electricity_kwh_price   date  \n",
       "0                    NaN  May19  \n",
       "1                    NaN  May19  \n",
       "2                    NaN  Oct19  "
      ]
     },
     "execution_count": 5,
     "metadata": {},
     "output_type": "execute_result"
    }
   ],
   "source": [
    "data = pd.read_csv(config['data']['csv_raw'])\n",
    "data.columns = clean.normalize_column_names(data.columns)\n",
    "data.head(3)"
   ]
  },
  {
   "cell_type": "code",
   "execution_count": 6,
   "id": "597e5f8c",
   "metadata": {},
   "outputs": [
    {
     "data": {
      "text/html": [
       "<div>\n",
       "<style scoped>\n",
       "    .dataframe tbody tr th:only-of-type {\n",
       "        vertical-align: middle;\n",
       "    }\n",
       "\n",
       "    .dataframe tbody tr th {\n",
       "        vertical-align: top;\n",
       "    }\n",
       "\n",
       "    .dataframe thead th {\n",
       "        text-align: right;\n",
       "    }\n",
       "</style>\n",
       "<table border=\"1\" class=\"dataframe\">\n",
       "  <thead>\n",
       "    <tr style=\"text-align: right;\">\n",
       "      <th></th>\n",
       "      <th>Nans</th>\n",
       "      <th>Percent</th>\n",
       "    </tr>\n",
       "    <tr>\n",
       "      <th>Name</th>\n",
       "      <th></th>\n",
       "      <th></th>\n",
       "    </tr>\n",
       "  </thead>\n",
       "  <tbody>\n",
       "    <tr>\n",
       "      <th>telekom_hybrid_upload_speed</th>\n",
       "      <td>223830</td>\n",
       "      <td>83.3%</td>\n",
       "    </tr>\n",
       "    <tr>\n",
       "      <th>electricity_kwh_price</th>\n",
       "      <td>222004</td>\n",
       "      <td>82.6%</td>\n",
       "    </tr>\n",
       "    <tr>\n",
       "      <th>electricity_base_price</th>\n",
       "      <td>222004</td>\n",
       "      <td>82.6%</td>\n",
       "    </tr>\n",
       "    <tr>\n",
       "      <th>energy_efficiency_class</th>\n",
       "      <td>191063</td>\n",
       "      <td>71.1%</td>\n",
       "    </tr>\n",
       "    <tr>\n",
       "      <th>last_refurbish</th>\n",
       "      <td>188139</td>\n",
       "      <td>70.0%</td>\n",
       "    </tr>\n",
       "    <tr>\n",
       "      <th>heating_costs</th>\n",
       "      <td>183332</td>\n",
       "      <td>68.2%</td>\n",
       "    </tr>\n",
       "    <tr>\n",
       "      <th>no_park_spaces</th>\n",
       "      <td>175798</td>\n",
       "      <td>65.4%</td>\n",
       "    </tr>\n",
       "    <tr>\n",
       "      <th>pets_allowed</th>\n",
       "      <td>114573</td>\n",
       "      <td>42.6%</td>\n",
       "    </tr>\n",
       "    <tr>\n",
       "      <th>interior_qual</th>\n",
       "      <td>112665</td>\n",
       "      <td>41.9%</td>\n",
       "    </tr>\n",
       "    <tr>\n",
       "      <th>thermal_char</th>\n",
       "      <td>106506</td>\n",
       "      <td>39.6%</td>\n",
       "    </tr>\n",
       "    <tr>\n",
       "      <th>number_of_floors</th>\n",
       "      <td>97732</td>\n",
       "      <td>36.4%</td>\n",
       "    </tr>\n",
       "    <tr>\n",
       "      <th>house_number</th>\n",
       "      <td>71018</td>\n",
       "      <td>26.4%</td>\n",
       "    </tr>\n",
       "    <tr>\n",
       "      <th>street_plain</th>\n",
       "      <td>71013</td>\n",
       "      <td>26.4%</td>\n",
       "    </tr>\n",
       "    <tr>\n",
       "      <th>condition</th>\n",
       "      <td>68489</td>\n",
       "      <td>25.5%</td>\n",
       "    </tr>\n",
       "    <tr>\n",
       "      <th>year_constructed_range</th>\n",
       "      <td>57045</td>\n",
       "      <td>21.2%</td>\n",
       "    </tr>\n",
       "    <tr>\n",
       "      <th>year_constructed</th>\n",
       "      <td>57045</td>\n",
       "      <td>21.2%</td>\n",
       "    </tr>\n",
       "    <tr>\n",
       "      <th>firing_types</th>\n",
       "      <td>56964</td>\n",
       "      <td>21.2%</td>\n",
       "    </tr>\n",
       "    <tr>\n",
       "      <th>facilities</th>\n",
       "      <td>52924</td>\n",
       "      <td>19.7%</td>\n",
       "    </tr>\n",
       "    <tr>\n",
       "      <th>floor</th>\n",
       "      <td>51309</td>\n",
       "      <td>19.1%</td>\n",
       "    </tr>\n",
       "    <tr>\n",
       "      <th>heating_type</th>\n",
       "      <td>44856</td>\n",
       "      <td>16.7%</td>\n",
       "    </tr>\n",
       "    <tr>\n",
       "      <th>total_rent</th>\n",
       "      <td>40517</td>\n",
       "      <td>15.1%</td>\n",
       "    </tr>\n",
       "    <tr>\n",
       "      <th>type_of_flat</th>\n",
       "      <td>36614</td>\n",
       "      <td>13.6%</td>\n",
       "    </tr>\n",
       "    <tr>\n",
       "      <th>telekom_upload_speed</th>\n",
       "      <td>33358</td>\n",
       "      <td>12.4%</td>\n",
       "    </tr>\n",
       "    <tr>\n",
       "      <th>telekom_tv_offer</th>\n",
       "      <td>32619</td>\n",
       "      <td>12.1%</td>\n",
       "    </tr>\n",
       "    <tr>\n",
       "      <th>description</th>\n",
       "      <td>19747</td>\n",
       "      <td>7.3%</td>\n",
       "    </tr>\n",
       "    <tr>\n",
       "      <th>service_charge</th>\n",
       "      <td>6909</td>\n",
       "      <td>2.6%</td>\n",
       "    </tr>\n",
       "    <tr>\n",
       "      <th>pricetrend</th>\n",
       "      <td>1832</td>\n",
       "      <td>0.7%</td>\n",
       "    </tr>\n",
       "  </tbody>\n",
       "</table>\n",
       "</div>"
      ],
      "text/plain": [
       "                               Nans Percent\n",
       "Name                                       \n",
       "telekom_hybrid_upload_speed  223830   83.3%\n",
       "electricity_kwh_price        222004   82.6%\n",
       "electricity_base_price       222004   82.6%\n",
       "energy_efficiency_class      191063   71.1%\n",
       "last_refurbish               188139   70.0%\n",
       "heating_costs                183332   68.2%\n",
       "no_park_spaces               175798   65.4%\n",
       "pets_allowed                 114573   42.6%\n",
       "interior_qual                112665   41.9%\n",
       "thermal_char                 106506   39.6%\n",
       "number_of_floors              97732   36.4%\n",
       "house_number                  71018   26.4%\n",
       "street_plain                  71013   26.4%\n",
       "condition                     68489   25.5%\n",
       "year_constructed_range        57045   21.2%\n",
       "year_constructed              57045   21.2%\n",
       "firing_types                  56964   21.2%\n",
       "facilities                    52924   19.7%\n",
       "floor                         51309   19.1%\n",
       "heating_type                  44856   16.7%\n",
       "total_rent                    40517   15.1%\n",
       "type_of_flat                  36614   13.6%\n",
       "telekom_upload_speed          33358   12.4%\n",
       "telekom_tv_offer              32619   12.1%\n",
       "description                   19747    7.3%\n",
       "service_charge                 6909    2.6%\n",
       "pricetrend                     1832    0.7%"
      ]
     },
     "execution_count": 6,
     "metadata": {},
     "output_type": "execute_result"
    }
   ],
   "source": [
    "clean.get_nan_values(data)"
   ]
  },
  {
   "cell_type": "markdown",
   "id": "b90b68cf",
   "metadata": {},
   "source": [
    "<br>\n",
    "\n",
    "### Dealing with Nan values"
   ]
  },
  {
   "cell_type": "markdown",
   "id": "c153a534",
   "metadata": {},
   "source": [
    "#### energy_efficiency_class\n",
    "Missing energy classes are filled with 'NO_INFORMATION'."
   ]
  },
  {
   "cell_type": "code",
   "execution_count": 7,
   "id": "0add209e",
   "metadata": {},
   "outputs": [],
   "source": [
    "data['energy_efficiency_class'] = data['energy_efficiency_class'].fillna('unknown')"
   ]
  },
  {
   "cell_type": "markdown",
   "id": "7d8ad888",
   "metadata": {},
   "source": [
    "#### last_refurbish\n",
    "If a house/flat hasn't been refurbished, the year is set to -1."
   ]
  },
  {
   "cell_type": "code",
   "execution_count": 8,
   "id": "8461237b",
   "metadata": {},
   "outputs": [],
   "source": [
    "data['last_refurbish'] = data['last_refurbish'].fillna(-1).astype(np.int64)"
   ]
  },
  {
   "cell_type": "markdown",
   "id": "66d7bdcd",
   "metadata": {},
   "source": [
    "#### heating_costs\n",
    "If no heating costs are provided we'll replace it with -1."
   ]
  },
  {
   "cell_type": "code",
   "execution_count": 9,
   "id": "dfc78fe5",
   "metadata": {},
   "outputs": [],
   "source": [
    "data['heating_costs'] = data['heating_costs'].fillna(-1)"
   ]
  },
  {
   "cell_type": "markdown",
   "id": "294310bc",
   "metadata": {},
   "source": [
    "#### no_park_spaces\n",
    "Missing values will be set to -1."
   ]
  },
  {
   "cell_type": "code",
   "execution_count": 10,
   "id": "d8c9f796",
   "metadata": {},
   "outputs": [],
   "source": [
    "data['no_park_spaces'] = data['no_park_spaces'].fillna(-1).astype(np.int64)"
   ]
  },
  {
   "cell_type": "markdown",
   "id": "7297de2a",
   "metadata": {},
   "source": [
    "#### pets_allowed\n",
    "Change Nan values to 'unknown' here."
   ]
  },
  {
   "cell_type": "code",
   "execution_count": 11,
   "id": "96f6330b",
   "metadata": {
    "scrolled": true
   },
   "outputs": [],
   "source": [
    "data['pets_allowed'] = data['pets_allowed'].fillna('unknown')"
   ]
  },
  {
   "cell_type": "markdown",
   "id": "767a0269",
   "metadata": {},
   "source": [
    "#### interior_qual\n",
    "Fill Nan values with 'unknown'."
   ]
  },
  {
   "cell_type": "code",
   "execution_count": 12,
   "id": "440f3ade",
   "metadata": {},
   "outputs": [],
   "source": [
    "data['interior_qual'] = data['interior_qual'].fillna('unknown')"
   ]
  },
  {
   "cell_type": "markdown",
   "id": "2fb517dd",
   "metadata": {},
   "source": [
    "#### condition\n",
    "Fill with 'unknown'"
   ]
  },
  {
   "cell_type": "code",
   "execution_count": 13,
   "id": "8e8cd1cf",
   "metadata": {},
   "outputs": [],
   "source": [
    "data['condition'] = data['condition'].fillna('unknown')"
   ]
  },
  {
   "cell_type": "markdown",
   "id": "6ba9bcb0",
   "metadata": {},
   "source": [
    "#### year_constructed\n",
    "Fill with -1"
   ]
  },
  {
   "cell_type": "code",
   "execution_count": 14,
   "id": "10da42b8",
   "metadata": {},
   "outputs": [],
   "source": [
    "data['year_constructed'] = data['year_constructed'].fillna(-1).astype(np.int64)"
   ]
  },
  {
   "cell_type": "markdown",
   "id": "c838f69e",
   "metadata": {},
   "source": [
    "#### heating_type\n",
    "Fill with 'unknown'"
   ]
  },
  {
   "cell_type": "code",
   "execution_count": 15,
   "id": "5c1d5192",
   "metadata": {},
   "outputs": [],
   "source": [
    "data['heating_type'] = data['heating_type'].fillna('unknown')"
   ]
  },
  {
   "cell_type": "markdown",
   "id": "93288452",
   "metadata": {},
   "source": [
    "#### firing_types\n",
    "Fill Nans with 'unknown'"
   ]
  },
  {
   "cell_type": "code",
   "execution_count": 16,
   "id": "e97306bf",
   "metadata": {},
   "outputs": [],
   "source": [
    "data['firing_types'] = data['firing_types'].fillna('unknown')"
   ]
  },
  {
   "cell_type": "markdown",
   "id": "0e581d20",
   "metadata": {},
   "source": [
    "#### thermal_char\n",
    "Fill Nans with -1."
   ]
  },
  {
   "cell_type": "code",
   "execution_count": 17,
   "id": "6809de19",
   "metadata": {},
   "outputs": [],
   "source": [
    "data['thermal_char'] = data['thermal_char'].fillna(-1)"
   ]
  },
  {
   "cell_type": "markdown",
   "id": "4011740f",
   "metadata": {},
   "source": [
    "#### type_of_flat\n",
    "Missing flat types are filled with 'unknown'."
   ]
  },
  {
   "cell_type": "code",
   "execution_count": 18,
   "id": "47a144d6",
   "metadata": {},
   "outputs": [],
   "source": [
    "data['type_of_flat'] = data['type_of_flat'].fillna('unknown')\n",
    "data['type_of_flat'] = data['type_of_flat'].str.replace('_', ' ')"
   ]
  },
  {
   "cell_type": "markdown",
   "id": "eafdbad8",
   "metadata": {},
   "source": [
    "#### telekom_tv_offer\n",
    "Fill with 'unknown'"
   ]
  },
  {
   "cell_type": "code",
   "execution_count": 19,
   "id": "10af8b5d",
   "metadata": {},
   "outputs": [],
   "source": [
    "data['telekom_tv_offer'] = data['telekom_tv_offer'].fillna('unknown')"
   ]
  },
  {
   "cell_type": "markdown",
   "id": "d7c18a79",
   "metadata": {},
   "source": [
    "#### service_charge\n",
    "The service charge is calculated as total_rent-base_rent. If we don't have a value for total_rent, we set the\n",
    "service_charge to -1."
   ]
  },
  {
   "cell_type": "code",
   "execution_count": 20,
   "id": "2fa7d47c",
   "metadata": {},
   "outputs": [],
   "source": [
    "def clean_service_charge(row):\n",
    "    if pd.isnull(row['service_charge']):\n",
    "        if pd.isnull(row['total_rent']):\n",
    "            return -1\n",
    "        else:\n",
    "            return row['total_rent']-row['base_rent']\n",
    "    else:\n",
    "        return row['service_charge']"
   ]
  },
  {
   "cell_type": "code",
   "execution_count": 21,
   "id": "493d26ce",
   "metadata": {},
   "outputs": [],
   "source": [
    "data['service_charge'] = data.apply(clean_service_charge, axis=1)"
   ]
  },
  {
   "cell_type": "markdown",
   "id": "63e2fe0f",
   "metadata": {},
   "source": [
    "#### pricetrend\n",
    "Fill with 0"
   ]
  },
  {
   "cell_type": "code",
   "execution_count": 22,
   "id": "7e0be044",
   "metadata": {},
   "outputs": [],
   "source": [
    "data['pricetrend'] = data['pricetrend'].fillna(0)"
   ]
  },
  {
   "cell_type": "markdown",
   "id": "d200fced",
   "metadata": {},
   "source": [
    "#### house_number\n",
    "We only consider numbers here without any additional charakters. All nan values or values not containing a housenumber will be replaced with a blank string. So this column has dtype=object."
   ]
  },
  {
   "cell_type": "code",
   "execution_count": 23,
   "id": "5ce19d70",
   "metadata": {},
   "outputs": [],
   "source": [
    "def clean_house_number(x):\n",
    "    if pd.isnull(x):\n",
    "        return \"\"\n",
    "    l = re.findall('\\d{1,4}', x)\n",
    "    return str(int(l[0])) if l else ''"
   ]
  },
  {
   "cell_type": "code",
   "execution_count": 24,
   "id": "1c34ebb9",
   "metadata": {},
   "outputs": [],
   "source": [
    "data['house_number'] = data['house_number'].apply(clean_house_number)"
   ]
  },
  {
   "cell_type": "markdown",
   "id": "3ea92d5a",
   "metadata": {},
   "source": [
    "#### floor\n",
    "All empty values and floors higher than 30 all set to unknown."
   ]
  },
  {
   "cell_type": "code",
   "execution_count": 25,
   "id": "8d6c0a7b",
   "metadata": {},
   "outputs": [],
   "source": [
    "def clean_floor(x):\n",
    "    if pd.isnull(x) or x > 30:\n",
    "        return \"unknown\"\n",
    "    else:\n",
    "        return str(int(x))"
   ]
  },
  {
   "cell_type": "code",
   "execution_count": 26,
   "id": "f845c02a",
   "metadata": {},
   "outputs": [],
   "source": [
    "data['floor'] = data['floor'].apply(clean_floor)"
   ]
  },
  {
   "cell_type": "markdown",
   "id": "2be74216",
   "metadata": {},
   "source": [
    "#### telekom_upload_speed\n",
    "Doesn't make sense here to replace by median/mean. So let's use -1 instead."
   ]
  },
  {
   "cell_type": "code",
   "execution_count": 27,
   "id": "6bd8030f",
   "metadata": {},
   "outputs": [],
   "source": [
    "data['telekom_upload_speed'] = data['telekom_upload_speed'].fillna(-1)"
   ]
  },
  {
   "cell_type": "markdown",
   "id": "b7f58d5e",
   "metadata": {},
   "source": [
    "#### total_rent\n",
    "If we have a base_rent and service_charge set we consider empty values in total_rent to be base_rent+service_charge.<br>\n",
    "Otherwise empty values are filled by -1."
   ]
  },
  {
   "cell_type": "code",
   "execution_count": 28,
   "id": "58597c8e",
   "metadata": {},
   "outputs": [],
   "source": [
    "def clean_total_rent(row):\n",
    "    if pd.isnull(row['total_rent']):\n",
    "        if row['service_charge'] == -1:\n",
    "            return -1\n",
    "        else:\n",
    "            return row['base_rent']+row['service_charge']\n",
    "    else:\n",
    "        return row['total_rent']"
   ]
  },
  {
   "cell_type": "code",
   "execution_count": 29,
   "id": "073d9ba9",
   "metadata": {},
   "outputs": [],
   "source": [
    "data['total_rent'] = data.apply(clean_total_rent, axis=1)"
   ]
  },
  {
   "cell_type": "markdown",
   "id": "305516f9",
   "metadata": {},
   "source": [
    "#### street_plain\n",
    "Set Nans to empty string and replace underscores whitespaces."
   ]
  },
  {
   "cell_type": "code",
   "execution_count": 30,
   "id": "1d61c844",
   "metadata": {},
   "outputs": [],
   "source": [
    "def clean_street_plain(x):\n",
    "    if pd.isnull(x):\n",
    "        return ''\n",
    "    return x.replace('_', ' ').strip()"
   ]
  },
  {
   "cell_type": "code",
   "execution_count": 31,
   "id": "ab651f03",
   "metadata": {},
   "outputs": [],
   "source": [
    "data['street_plain'] = data['street_plain'].apply(clean_street_plain)"
   ]
  },
  {
   "cell_type": "markdown",
   "id": "bd16e3ce",
   "metadata": {},
   "source": [
    "#### regio1, regio2, regio3\n",
    "Replace underscores with whitespaces and trim values."
   ]
  },
  {
   "cell_type": "code",
   "execution_count": 32,
   "id": "cb9d10ea",
   "metadata": {},
   "outputs": [],
   "source": [
    "data['regio1'] = data['regio1'].apply(lambda x: x.replace('_', ' ').strip())\n",
    "data['regio2'] = data['regio2'].apply(lambda x: x.replace('_', ' ').strip())\n",
    "data['regio3'] = data['regio3'].apply(lambda x: x.replace('_', ' ').strip())"
   ]
  },
  {
   "cell_type": "markdown",
   "id": "dc28f633",
   "metadata": {},
   "source": [
    "#### balcony, cellar, has_kitchen, lift, garden, newly_const\n",
    "These columns are boolean containing True/False. Let's replace the values with 1/0."
   ]
  },
  {
   "cell_type": "code",
   "execution_count": 33,
   "id": "73f1923c",
   "metadata": {},
   "outputs": [],
   "source": [
    "data['balcony']     = data['balcony'].replace({'True':1, 'False':0})\n",
    "data['cellar']      = data['cellar'].replace({'True':1, 'False':0})\n",
    "data['has_kitchen'] = data['has_kitchen'].replace({'True':1, 'False':0})\n",
    "data['lift']        = data['lift'].replace({'True':1, 'False':0})\n",
    "data['garden']      = data['garden'].replace({'True':1, 'False':0})\n",
    "data['newly_const'] = data['newly_const'].replace({'True':1, 'False':0})"
   ]
  },
  {
   "cell_type": "markdown",
   "id": "4b287639",
   "metadata": {},
   "source": [
    "<br>\n",
    "\n",
    "### Create new columns"
   ]
  },
  {
   "cell_type": "markdown",
   "id": "4d04171b",
   "metadata": {},
   "source": [
    "#### Create column m2_rent\n",
    "This new column holds the price per m² (excluding service costs)."
   ]
  },
  {
   "cell_type": "code",
   "execution_count": 34,
   "id": "32f14771",
   "metadata": {},
   "outputs": [],
   "source": [
    "def get_m2_rent(row):\n",
    "    if not row['living_space']:\n",
    "        return 0\n",
    "    return round(row['base_rent']/row['living_space'],2)"
   ]
  },
  {
   "cell_type": "code",
   "execution_count": 35,
   "id": "53f7a5e3",
   "metadata": {},
   "outputs": [],
   "source": [
    "data['m2_rent'] = data.apply(get_m2_rent, axis=1)"
   ]
  },
  {
   "cell_type": "markdown",
   "id": "8c832bbd",
   "metadata": {},
   "source": [
    "#### Create column address\n",
    "This new column holds the address of a rental object.<br>\n",
    "Format: 'Streetname HouseNo, PostalCode City'"
   ]
  },
  {
   "cell_type": "code",
   "execution_count": 36,
   "id": "1aa82074",
   "metadata": {},
   "outputs": [],
   "source": [
    "def get_address(row):\n",
    "    kreis   = row['regio2']\n",
    "    bezirk  = row['regio3']\n",
    "    street  = row['street_plain']\n",
    "    houseno = row['house_number']\n",
    "    plz     = row['geo_plz']\n",
    "    s = \"\"\n",
    "    if street:\n",
    "        s += street\n",
    "        if houseno: s += \" \" + houseno\n",
    "        s += \", \"\n",
    "    s += str(plz) + \" \"\n",
    "    if \"Kreis\" in kreis:\n",
    "        s += bezirk\n",
    "    else:\n",
    "        s += kreis\n",
    "    return s"
   ]
  },
  {
   "cell_type": "code",
   "execution_count": 37,
   "id": "7443e4a7",
   "metadata": {},
   "outputs": [],
   "source": [
    "data['address'] = data.apply(get_address, axis=1)"
   ]
  },
  {
   "cell_type": "markdown",
   "id": "c833ad0c",
   "metadata": {},
   "source": [
    "<br>\n",
    "\n",
    "### Unused columns\n",
    "<br>\n",
    "\n",
    "The following columns are not used and will be deleted:\n",
    "- **telekom_hybrid_upload_speed** (> 80% Nans)\n",
    "- **electricity_kwh_price** (> 80% Nans)\n",
    "- **electricity_base_price** (> 80% Nans)\n",
    "- **description** (too much text)\n",
    "- **firing_types** (too many missing/unique values, redunant information)\n",
    "- **facilities** (too much text)\n",
    "\n",
    "\n",
    "- **number_of_floors** (missing/strange values, not really needed)\n",
    "- **year_constructed_range** (not needed, missing values)\n",
    "- **telekom_tv_offer** (not needed)\n",
    "- **street** (redundant, html encoded)\n",
    "- **street_plain** (redundant)\n",
    "- **house_number** (redundant)\n",
    "- **geo_bln** (redundant)\n",
    "- **geo_krs** (redundant)\n",
    "- **geo_plz** (redundant)\n",
    "- **base_rent_range** (not needed)\n",
    "- **living_space_range** (not needed)\n",
    "- **no_rooms_range** (not needed)\n",
    "- **scout_id** (not needed)\n"
   ]
  },
  {
   "cell_type": "code",
   "execution_count": 38,
   "id": "8a52ec2e",
   "metadata": {},
   "outputs": [],
   "source": [
    "data = data.drop(['telekom_hybrid_upload_speed', 'electricity_kwh_price',\n",
    "                  'electricity_base_price', 'street', 'number_of_floors',\n",
    "                  'year_constructed_range', 'facilities', 'description',\n",
    "                  'telekom_tv_offer', 'geo_bln', 'geo_krs', 'geo_plz',\n",
    "                  'base_rent_range', 'living_space_range', 'scout_id',\n",
    "                  'no_rooms_range', 'house_number', 'street_plain'],\n",
    "                 axis=1)"
   ]
  },
  {
   "cell_type": "markdown",
   "id": "f5c08c58",
   "metadata": {},
   "source": [
    "<br>\n",
    "\n",
    "### Data is clean now :-)"
   ]
  },
  {
   "cell_type": "code",
   "execution_count": 39,
   "id": "4d1e3ebb",
   "metadata": {
    "scrolled": true
   },
   "outputs": [
    {
     "data": {
      "text/plain": [
       "0"
      ]
     },
     "execution_count": 39,
     "metadata": {},
     "output_type": "execute_result"
    }
   ],
   "source": [
    "data.isna().sum().sum()"
   ]
  },
  {
   "cell_type": "markdown",
   "id": "7c7dc0fd",
   "metadata": {},
   "source": [
    "### Reorder and rename columns"
   ]
  },
  {
   "cell_type": "code",
   "execution_count": 40,
   "id": "990193fd",
   "metadata": {},
   "outputs": [],
   "source": [
    "data = data[[\n",
    "    'total_rent', 'base_rent', 'living_space', 'm2_rent',\n",
    "    'service_charge', 'heating_costs', 'thermal_char', 'pricetrend',\n",
    "    'balcony', 'cellar', 'has_kitchen', 'lift', 'garden', 'pets_allowed',\n",
    "    'condition', 'type_of_flat', 'interior_qual', 'energy_efficiency_class',\n",
    "    'telekom_upload_speed', 'no_park_spaces', 'heating_type', 'firing_types',\n",
    "    'newly_const', 'no_rooms', 'floor', 'year_constructed', 'last_refurbish',\n",
    "    'date', 'picturecount', 'regio1', 'regio2', 'regio3', 'address'\n",
    "]]"
   ]
  },
  {
   "cell_type": "code",
   "execution_count": 41,
   "id": "2abe20ef",
   "metadata": {},
   "outputs": [],
   "source": [
    "d = {\n",
    "    'total_rent'   : 'total_price',\n",
    "    'base_rent'    : 'base_price',\n",
    "    'm2_rent'      : 'm2_price',\n",
    "    'living_space' : 'm2',\n",
    "    'thermal_char' : 'thermal_charge',\n",
    "    'balcony'      : 'has_balcony',\n",
    "    'cellar'       : 'has_cellar',\n",
    "    'lift'         : 'has_lift',\n",
    "    'garden'       : 'has_garden',\n",
    "}\n",
    "\n",
    "data = data.rename(columns=d)"
   ]
  },
  {
   "cell_type": "markdown",
   "id": "2a097e14",
   "metadata": {},
   "source": [
    "<br>\n",
    "\n",
    "### Store cleaned data"
   ]
  },
  {
   "cell_type": "code",
   "execution_count": 42,
   "id": "6c48d198",
   "metadata": {},
   "outputs": [],
   "source": [
    "data.to_csv(config['data']['csv_clean'], index=False)"
   ]
  }
 ],
 "metadata": {
  "kernelspec": {
   "display_name": "Python 3 (ipykernel)",
   "language": "python",
   "name": "python3"
  },
  "language_info": {
   "codemirror_mode": {
    "name": "ipython",
    "version": 3
   },
   "file_extension": ".py",
   "mimetype": "text/x-python",
   "name": "python",
   "nbconvert_exporter": "python",
   "pygments_lexer": "ipython3",
   "version": "3.10.9"
  }
 },
 "nbformat": 4,
 "nbformat_minor": 5
}
